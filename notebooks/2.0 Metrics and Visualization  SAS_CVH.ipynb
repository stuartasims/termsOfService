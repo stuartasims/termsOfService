{
 "cells": [
  {
   "cell_type": "markdown",
   "id": "generic-excellence",
   "metadata": {
    "ExecuteTime": {
     "end_time": "2021-01-24T04:37:04.942968Z",
     "start_time": "2021-01-24T04:37:04.938979Z"
    }
   },
   "source": [
    "# Goal\n",
    "\n",
    "In this notebook, we want to inspect the complexity of these terms of service. We're not lawyers, but we can read. So that means we're going to be looking for the reading ease and grade level ([flesch-kincaid tests](https://en.wikipedia.org/wiki/Flesch%E2%80%93Kincaid_readability_tests)) of each document as well as the estimated time it would take to read each document.\n",
    "\n",
    "Finally, we will explore some visualizations of that data and hopefully make something interactive for the masses to engage with the results!"
   ]
  },
  {
   "cell_type": "markdown",
   "id": "third-conditioning",
   "metadata": {},
   "source": [
    "## Import Tooling"
   ]
  },
  {
   "cell_type": "code",
   "execution_count": 1,
   "id": "bound-stocks",
   "metadata": {
    "ExecuteTime": {
     "end_time": "2021-01-24T04:59:33.694290Z",
     "start_time": "2021-01-24T04:59:32.877100Z"
    }
   },
   "outputs": [
    {
     "name": "stderr",
     "output_type": "stream",
     "text": [
      "C:\\Anaconda3\\envs\\termsOfServiceEnv\\lib\\importlib\\_bootstrap.py:219: RuntimeWarning: thinc.extra.search.Beam size changed, may indicate binary incompatibility. Expected 112 from C header, got 120 from PyObject\n",
      "  return f(*args, **kwds)\n"
     ]
    },
    {
     "ename": "ModuleNotFoundError",
     "evalue": "No module named 'spacy_readability'",
     "output_type": "error",
     "traceback": [
      "\u001b[1;31m---------------------------------------------------------------------------\u001b[0m",
      "\u001b[1;31mModuleNotFoundError\u001b[0m                       Traceback (most recent call last)",
      "\u001b[1;32m<ipython-input-1-0ed4b2fa9b72>\u001b[0m in \u001b[0;36m<module>\u001b[1;34m\u001b[0m\n\u001b[0;32m      1\u001b[0m \u001b[1;32mimport\u001b[0m \u001b[0mpandas\u001b[0m \u001b[1;32mas\u001b[0m \u001b[0mpd\u001b[0m\u001b[1;33m\u001b[0m\u001b[1;33m\u001b[0m\u001b[0m\n\u001b[0;32m      2\u001b[0m \u001b[1;32mimport\u001b[0m \u001b[0mspacy\u001b[0m\u001b[1;33m\u001b[0m\u001b[1;33m\u001b[0m\u001b[0m\n\u001b[1;32m----> 3\u001b[1;33m \u001b[1;32mfrom\u001b[0m \u001b[0mspacy_readability\u001b[0m \u001b[1;32mimport\u001b[0m \u001b[0mReadability\u001b[0m\u001b[1;33m\u001b[0m\u001b[1;33m\u001b[0m\u001b[0m\n\u001b[0m",
      "\u001b[1;31mModuleNotFoundError\u001b[0m: No module named 'spacy_readability'"
     ]
    }
   ],
   "source": [
    "import pandas as pd\n",
    "import spacy\n",
    "from spacy_readability import Readability"
   ]
  },
  {
   "cell_type": "markdown",
   "id": "bizarre-platform",
   "metadata": {
    "ExecuteTime": {
     "end_time": "2021-01-24T04:41:12.836092Z",
     "start_time": "2021-01-24T04:41:12.832103Z"
    }
   },
   "source": [
    "## Import Data"
   ]
  },
  {
   "cell_type": "code",
   "execution_count": null,
   "id": "hollow-career",
   "metadata": {
    "ExecuteTime": {
     "end_time": "2021-01-24T04:50:44.717826Z",
     "start_time": "2021-01-24T04:50:43.628Z"
    }
   },
   "outputs": [],
   "source": [
    "agreements = pd.read_csv('../data/processed/agreements.csv', parse_dates = [4])"
   ]
  },
  {
   "cell_type": "code",
   "execution_count": null,
   "id": "beginning-nomination",
   "metadata": {
    "ExecuteTime": {
     "end_time": "2021-01-24T04:50:44.718803Z",
     "start_time": "2021-01-24T04:50:43.635Z"
    }
   },
   "outputs": [],
   "source": [
    "agreements.info()"
   ]
  }
 ],
 "metadata": {
  "kernelspec": {
   "display_name": "Python 3",
   "language": "python",
   "name": "python3"
  },
  "language_info": {
   "codemirror_mode": {
    "name": "ipython",
    "version": 3
   },
   "file_extension": ".py",
   "mimetype": "text/x-python",
   "name": "python",
   "nbconvert_exporter": "python",
   "pygments_lexer": "ipython3",
   "version": "3.7.9"
  },
  "toc": {
   "base_numbering": 1,
   "nav_menu": {},
   "number_sections": true,
   "sideBar": true,
   "skip_h1_title": false,
   "title_cell": "Table of Contents",
   "title_sidebar": "Contents",
   "toc_cell": false,
   "toc_position": {},
   "toc_section_display": true,
   "toc_window_display": false
  },
  "varInspector": {
   "cols": {
    "lenName": 16,
    "lenType": 16,
    "lenVar": 40
   },
   "kernels_config": {
    "python": {
     "delete_cmd_postfix": "",
     "delete_cmd_prefix": "del ",
     "library": "var_list.py",
     "varRefreshCmd": "print(var_dic_list())"
    },
    "r": {
     "delete_cmd_postfix": ") ",
     "delete_cmd_prefix": "rm(",
     "library": "var_list.r",
     "varRefreshCmd": "cat(var_dic_list()) "
    }
   },
   "types_to_exclude": [
    "module",
    "function",
    "builtin_function_or_method",
    "instance",
    "_Feature"
   ],
   "window_display": false
  }
 },
 "nbformat": 4,
 "nbformat_minor": 5
}
