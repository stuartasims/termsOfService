{
 "cells": [
  {
   "cell_type": "markdown",
   "metadata": {},
   "source": [
    "# Goal\n",
    "\n",
    "The goal of this notebook is to develop a way to get these terms of service documents into a single tabular dataset. We'd like to have each record contain the timestamp of the TOS file, the company that created it, and the full text in the TOS."
   ]
  },
  {
   "cell_type": "markdown",
   "metadata": {
    "ExecuteTime": {
     "end_time": "2021-01-24T02:14:43.748534Z",
     "start_time": "2021-01-24T02:14:43.744545Z"
    }
   },
   "source": [
    "## Import tooling"
   ]
  },
  {
   "cell_type": "code",
   "execution_count": 1,
   "metadata": {
    "ExecuteTime": {
     "end_time": "2021-01-24T04:36:19.391428Z",
     "start_time": "2021-01-24T04:36:18.862809Z"
    },
    "scrolled": true
   },
   "outputs": [
    {
     "name": "stderr",
     "output_type": "stream",
     "text": [
      "C:\\Anaconda3\\envs\\termsOfServiceEnv\\lib\\site-packages\\tqdm\\std.py:701: FutureWarning: The Panel class is removed from pandas. Accessing it from the top-level namespace will also be removed in the next version\n",
      "  from pandas import Panel\n"
     ]
    }
   ],
   "source": [
    "import pandas as pd\n",
    "import glob as glob\n",
    "import os\n",
    "from datetime import datetime\n",
    "from collections import Counter\n",
    "\n",
    "from IPython.display import display, Markdown\n",
    "\n",
    "from tqdm.notebook import tqdm\n",
    "tqdm.pandas()"
   ]
  },
  {
   "cell_type": "markdown",
   "metadata": {},
   "source": [
    "## Determine All the Relevant Files and their Paths"
   ]
  },
  {
   "cell_type": "code",
   "execution_count": 2,
   "metadata": {
    "ExecuteTime": {
     "end_time": "2021-01-24T04:36:19.419342Z",
     "start_time": "2021-01-24T04:36:19.394408Z"
    }
   },
   "outputs": [],
   "source": [
    "# get relative path for each company in the dataset parent directory\n",
    "company_directories = glob.glob('../data/raw/dataset-2021-01-06-e365c67/*',\n",
    "                                recursive=True)\n",
    "\n",
    "# keep only the company name from each path\n",
    "company_names = [x.split(\"\\\\\")[-1] for x in company_directories]\n",
    "\n",
    "# determine how many types of legal documents are included in the dataset\n",
    "document_types = glob.glob('../data/raw/dataset-2021-01-06-e365c67/*/*',\n",
    "                           recursive=True)\n",
    "# keep only the document type from each path\n",
    "document_names = [x.split(\"\\\\\")[-1] for x in document_types]"
   ]
  },
  {
   "cell_type": "markdown",
   "metadata": {},
   "source": [
    "## Inspecting the Dataset"
   ]
  },
  {
   "cell_type": "code",
   "execution_count": 3,
   "metadata": {
    "ExecuteTime": {
     "end_time": "2021-01-24T04:36:19.451296Z",
     "start_time": "2021-01-24T04:36:19.421343Z"
    }
   },
   "outputs": [
    {
     "data": {
      "text/markdown": [
       "#### There are 174 unique companies in the dataset."
      ],
      "text/plain": [
       "<IPython.core.display.Markdown object>"
      ]
     },
     "metadata": {},
     "output_type": "display_data"
    },
    {
     "data": {
      "text/markdown": [
       "#### There are 23 unique types of documents in the dataset, but Terms of Service are the most common."
      ],
      "text/plain": [
       "<IPython.core.display.Markdown object>"
      ]
     },
     "metadata": {},
     "output_type": "display_data"
    },
    {
     "data": {
      "text/html": [
       "<div>\n",
       "<style scoped>\n",
       "    .dataframe tbody tr th:only-of-type {\n",
       "        vertical-align: middle;\n",
       "    }\n",
       "\n",
       "    .dataframe tbody tr th {\n",
       "        vertical-align: top;\n",
       "    }\n",
       "\n",
       "    .dataframe thead th {\n",
       "        text-align: right;\n",
       "    }\n",
       "</style>\n",
       "<table border=\"1\" class=\"dataframe\">\n",
       "  <thead>\n",
       "    <tr style=\"text-align: right;\">\n",
       "      <th></th>\n",
       "      <th>count</th>\n",
       "    </tr>\n",
       "  </thead>\n",
       "  <tbody>\n",
       "    <tr>\n",
       "      <th>Terms of Service</th>\n",
       "      <td>151</td>\n",
       "    </tr>\n",
       "    <tr>\n",
       "      <th>Privacy Policy</th>\n",
       "      <td>138</td>\n",
       "    </tr>\n",
       "    <tr>\n",
       "      <th>Trackers Policy</th>\n",
       "      <td>12</td>\n",
       "    </tr>\n",
       "    <tr>\n",
       "      <th>Developer Terms</th>\n",
       "      <td>11</td>\n",
       "    </tr>\n",
       "    <tr>\n",
       "      <th>Copyright Claims Policy</th>\n",
       "      <td>6</td>\n",
       "    </tr>\n",
       "    <tr>\n",
       "      <th>Community Guidelines</th>\n",
       "      <td>6</td>\n",
       "    </tr>\n",
       "    <tr>\n",
       "      <th>Acceptable Use Policy</th>\n",
       "      <td>5</td>\n",
       "    </tr>\n",
       "    <tr>\n",
       "      <th>Data Processor Agreement</th>\n",
       "      <td>4</td>\n",
       "    </tr>\n",
       "    <tr>\n",
       "      <th>Commercial Terms</th>\n",
       "      <td>4</td>\n",
       "    </tr>\n",
       "    <tr>\n",
       "      <th>Parent Organization Privacy Policy</th>\n",
       "      <td>4</td>\n",
       "    </tr>\n",
       "    <tr>\n",
       "      <th>User Consent Policy</th>\n",
       "      <td>4</td>\n",
       "    </tr>\n",
       "    <tr>\n",
       "      <th>Data Controller Agreement</th>\n",
       "      <td>4</td>\n",
       "    </tr>\n",
       "    <tr>\n",
       "      <th>Law Enforcement Guidelines</th>\n",
       "      <td>3</td>\n",
       "    </tr>\n",
       "    <tr>\n",
       "      <th>Quality Guidelines</th>\n",
       "      <td>2</td>\n",
       "    </tr>\n",
       "    <tr>\n",
       "      <th>Brand Guidelines</th>\n",
       "      <td>2</td>\n",
       "    </tr>\n",
       "    <tr>\n",
       "      <th>Review Guidelines</th>\n",
       "      <td>2</td>\n",
       "    </tr>\n",
       "    <tr>\n",
       "      <th>Vulnerability Disclosure Policy</th>\n",
       "      <td>2</td>\n",
       "    </tr>\n",
       "    <tr>\n",
       "      <th>Live Policy</th>\n",
       "      <td>2</td>\n",
       "    </tr>\n",
       "    <tr>\n",
       "      <th>Restricted Use Policy</th>\n",
       "      <td>1</td>\n",
       "    </tr>\n",
       "    <tr>\n",
       "      <th>Human Rights Policy</th>\n",
       "      <td>1</td>\n",
       "    </tr>\n",
       "    <tr>\n",
       "      <th>Closed Captioning Policy</th>\n",
       "      <td>1</td>\n",
       "    </tr>\n",
       "    <tr>\n",
       "      <th>In-App Purchases Policy</th>\n",
       "      <td>1</td>\n",
       "    </tr>\n",
       "    <tr>\n",
       "      <th>Parent Organization Terms</th>\n",
       "      <td>1</td>\n",
       "    </tr>\n",
       "  </tbody>\n",
       "</table>\n",
       "</div>"
      ],
      "text/plain": [
       "                                    count\n",
       "Terms of Service                      151\n",
       "Privacy Policy                        138\n",
       "Trackers Policy                        12\n",
       "Developer Terms                        11\n",
       "Copyright Claims Policy                 6\n",
       "Community Guidelines                    6\n",
       "Acceptable Use Policy                   5\n",
       "Data Processor Agreement                4\n",
       "Commercial Terms                        4\n",
       "Parent Organization Privacy Policy      4\n",
       "User Consent Policy                     4\n",
       "Data Controller Agreement               4\n",
       "Law Enforcement Guidelines              3\n",
       "Quality Guidelines                      2\n",
       "Brand Guidelines                        2\n",
       "Review Guidelines                       2\n",
       "Vulnerability Disclosure Policy         2\n",
       "Live Policy                             2\n",
       "Restricted Use Policy                   1\n",
       "Human Rights Policy                     1\n",
       "Closed Captioning Policy                1\n",
       "In-App Purchases Policy                 1\n",
       "Parent Organization Terms               1"
      ]
     },
     "execution_count": 3,
     "metadata": {},
     "output_type": "execute_result"
    }
   ],
   "source": [
    "# determine how many companies are represented in dataset\n",
    "display(\n",
    "    Markdown('#### There are {} unique companies in the dataset.'.format(\n",
    "        len(set(company_names)))))\n",
    "\n",
    "# determine how many types of documents are represented in dataset\n",
    "display(\n",
    "    Markdown(\n",
    "        '#### There are {} unique types of documents in the dataset, but Terms of Service are the most common.'\n",
    "        .format(len(set(document_names)))))\n",
    "\n",
    "counts_of_documents = pd.DataFrame.from_dict(Counter(document_names),\n",
    "                                             orient='index')\n",
    "counts_of_documents.columns = ['count']\n",
    "counts_of_documents.sort_values(by='count', ascending=False)"
   ]
  },
  {
   "cell_type": "markdown",
   "metadata": {},
   "source": [
    "## Transform the Nested File Structure into a Tabular Representation"
   ]
  },
  {
   "cell_type": "code",
   "execution_count": 4,
   "metadata": {
    "ExecuteTime": {
     "end_time": "2021-01-24T04:36:19.635882Z",
     "start_time": "2021-01-24T04:36:19.454249Z"
    }
   },
   "outputs": [
    {
     "data": {
      "text/html": [
       "<div>\n",
       "<style scoped>\n",
       "    .dataframe tbody tr th:only-of-type {\n",
       "        vertical-align: middle;\n",
       "    }\n",
       "\n",
       "    .dataframe tbody tr th {\n",
       "        vertical-align: top;\n",
       "    }\n",
       "\n",
       "    .dataframe thead th {\n",
       "        text-align: right;\n",
       "    }\n",
       "</style>\n",
       "<table border=\"1\" class=\"dataframe\">\n",
       "  <thead>\n",
       "    <tr style=\"text-align: right;\">\n",
       "      <th></th>\n",
       "      <th>relativePath</th>\n",
       "      <th>companyName</th>\n",
       "      <th>documentType</th>\n",
       "      <th>documentName</th>\n",
       "    </tr>\n",
       "  </thead>\n",
       "  <tbody>\n",
       "    <tr>\n",
       "      <th>3575</th>\n",
       "      <td>../data/raw/dataset-2021-01-06-e365c67</td>\n",
       "      <td>Allstate</td>\n",
       "      <td>Privacy Policy</td>\n",
       "      <td>2017-05-22--04-58-00.md</td>\n",
       "    </tr>\n",
       "    <tr>\n",
       "      <th>9180</th>\n",
       "      <td>../data/raw/dataset-2021-01-06-e365c67</td>\n",
       "      <td>Zillow</td>\n",
       "      <td>Privacy Policy</td>\n",
       "      <td>2019-10-11--06-01-58.md</td>\n",
       "    </tr>\n",
       "    <tr>\n",
       "      <th>203</th>\n",
       "      <td>../data/raw/dataset-2021-01-06-e365c67</td>\n",
       "      <td>ACDelco</td>\n",
       "      <td>Privacy Policy</td>\n",
       "      <td>2013-08-10--04-28-34.md</td>\n",
       "    </tr>\n",
       "    <tr>\n",
       "      <th>6212</th>\n",
       "      <td>../data/raw/dataset-2021-01-06-e365c67</td>\n",
       "      <td>Xanga</td>\n",
       "      <td>Privacy Policy</td>\n",
       "      <td>2014-09-07--04-29-49.md</td>\n",
       "    </tr>\n",
       "  </tbody>\n",
       "</table>\n",
       "</div>"
      ],
      "text/plain": [
       "                                relativePath companyName    documentType  \\\n",
       "3575  ../data/raw/dataset-2021-01-06-e365c67    Allstate  Privacy Policy   \n",
       "9180  ../data/raw/dataset-2021-01-06-e365c67      Zillow  Privacy Policy   \n",
       "203   ../data/raw/dataset-2021-01-06-e365c67     ACDelco  Privacy Policy   \n",
       "6212  ../data/raw/dataset-2021-01-06-e365c67       Xanga  Privacy Policy   \n",
       "\n",
       "                 documentName  \n",
       "3575  2017-05-22--04-58-00.md  \n",
       "9180  2019-10-11--06-01-58.md  \n",
       "203   2013-08-10--04-28-34.md  \n",
       "6212  2014-09-07--04-29-49.md  "
      ]
     },
     "execution_count": 4,
     "metadata": {},
     "output_type": "execute_result"
    }
   ],
   "source": [
    "# find all the files within each company, each type of document, and each version\n",
    "# each item in the list should represent a unique document\n",
    "file_list = glob.glob('../data/raw/dataset-2021-01-06-e365c67/*/*/*',\n",
    "                      recursive=True)\n",
    "\n",
    "# construct a list of lists, where each interior list will ultimately be a new row in a pandas dataframe\n",
    "list_of_lists = [x.split(\"\\\\\") for x in file_list]\n",
    "\n",
    "# construct a pandas dataframe from this nested list\n",
    "\n",
    "file_df = pd.DataFrame(\n",
    "    list_of_lists,\n",
    "    columns=['relativePath', 'companyName', 'documentType', 'documentName'])\n",
    "file_df.sample(4)"
   ]
  },
  {
   "cell_type": "code",
   "execution_count": 5,
   "metadata": {
    "ExecuteTime": {
     "end_time": "2021-01-24T04:36:19.810995Z",
     "start_time": "2021-01-24T04:36:19.637862Z"
    }
   },
   "outputs": [
    {
     "data": {
      "text/html": [
       "<div>\n",
       "<style scoped>\n",
       "    .dataframe tbody tr th:only-of-type {\n",
       "        vertical-align: middle;\n",
       "    }\n",
       "\n",
       "    .dataframe tbody tr th {\n",
       "        vertical-align: top;\n",
       "    }\n",
       "\n",
       "    .dataframe thead th {\n",
       "        text-align: right;\n",
       "    }\n",
       "</style>\n",
       "<table border=\"1\" class=\"dataframe\">\n",
       "  <thead>\n",
       "    <tr style=\"text-align: right;\">\n",
       "      <th></th>\n",
       "      <th>relativePath</th>\n",
       "      <th>companyName</th>\n",
       "      <th>documentType</th>\n",
       "      <th>documentName</th>\n",
       "      <th>timestamp</th>\n",
       "      <th>fullFilePath</th>\n",
       "    </tr>\n",
       "  </thead>\n",
       "  <tbody>\n",
       "    <tr>\n",
       "      <th>8033</th>\n",
       "      <td>../data/raw/dataset-2021-01-06-e365c67</td>\n",
       "      <td>Xanga</td>\n",
       "      <td>Privacy Policy</td>\n",
       "      <td>2019-11-24--06-59-57.md</td>\n",
       "      <td>2019-11-24 06:59:57</td>\n",
       "      <td>../data/raw/dataset-2021-01-06-e365c67\\Xanga\\P...</td>\n",
       "    </tr>\n",
       "    <tr>\n",
       "      <th>6417</th>\n",
       "      <td>../data/raw/dataset-2021-01-06-e365c67</td>\n",
       "      <td>Xanga</td>\n",
       "      <td>Privacy Policy</td>\n",
       "      <td>2015-04-01--04-40-01.md</td>\n",
       "      <td>2015-04-01 04:40:01</td>\n",
       "      <td>../data/raw/dataset-2021-01-06-e365c67\\Xanga\\P...</td>\n",
       "    </tr>\n",
       "    <tr>\n",
       "      <th>4379</th>\n",
       "      <td>../data/raw/dataset-2021-01-06-e365c67</td>\n",
       "      <td>Myspace</td>\n",
       "      <td>Terms of Service</td>\n",
       "      <td>2020-08-25--15-30-33.md</td>\n",
       "      <td>2020-08-25 15:30:33</td>\n",
       "      <td>../data/raw/dataset-2021-01-06-e365c67\\Myspace...</td>\n",
       "    </tr>\n",
       "  </tbody>\n",
       "</table>\n",
       "</div>"
      ],
      "text/plain": [
       "                                relativePath companyName      documentType  \\\n",
       "8033  ../data/raw/dataset-2021-01-06-e365c67       Xanga    Privacy Policy   \n",
       "6417  ../data/raw/dataset-2021-01-06-e365c67       Xanga    Privacy Policy   \n",
       "4379  ../data/raw/dataset-2021-01-06-e365c67     Myspace  Terms of Service   \n",
       "\n",
       "                 documentName           timestamp  \\\n",
       "8033  2019-11-24--06-59-57.md 2019-11-24 06:59:57   \n",
       "6417  2015-04-01--04-40-01.md 2015-04-01 04:40:01   \n",
       "4379  2020-08-25--15-30-33.md 2020-08-25 15:30:33   \n",
       "\n",
       "                                           fullFilePath  \n",
       "8033  ../data/raw/dataset-2021-01-06-e365c67\\Xanga\\P...  \n",
       "6417  ../data/raw/dataset-2021-01-06-e365c67\\Xanga\\P...  \n",
       "4379  ../data/raw/dataset-2021-01-06-e365c67\\Myspace...  "
      ]
     },
     "execution_count": 5,
     "metadata": {},
     "output_type": "execute_result"
    }
   ],
   "source": [
    "# convert filename string to a datetime\n",
    "file_df['timestamp'] = file_df['documentName'].apply(\n",
    "    lambda x: datetime.strptime(x[:-3], '%Y-%m-%d--%H-%M-%S'))\n",
    "\n",
    "file_df['fullFilePath'] = file_list\n",
    "\n",
    "file_df.sample(3)"
   ]
  },
  {
   "cell_type": "markdown",
   "metadata": {},
   "source": [
    "## Append the Text from Each File to DataFrame"
   ]
  },
  {
   "cell_type": "markdown",
   "metadata": {},
   "source": [
    "First, we'll define a function to use a filepath, read the contents, remove some markdown characters, and then return the contents as a string. Then we can use .apply and a lambda function to use this function on our files. Since we're storing the filepath in the dataframe, it should be a pretty simple one liner."
   ]
  },
  {
   "cell_type": "code",
   "execution_count": 6,
   "metadata": {
    "ExecuteTime": {
     "end_time": "2021-01-24T04:36:19.816978Z",
     "start_time": "2021-01-24T04:36:19.812989Z"
    }
   },
   "outputs": [],
   "source": [
    "def get_file_contents(filepath):\n",
    "    with open(filepath, 'r', encoding='utf-8') as file:\n",
    "\n",
    "        # get the full contents of the file\n",
    "        contents = file.readlines()\n",
    "\n",
    "        # replace some markdown characters.\n",
    "    contents = [\n",
    "        x.replace(\"\\n\", '').replace(\"*\", '').replace(\"\\'\",\n",
    "                                                     '').replace(\"Â»\", '')\n",
    "        for x in contents\n",
    "    ]\n",
    "\n",
    "    # return file contents as a string\n",
    "    return ' '.join(contents)"
   ]
  },
  {
   "cell_type": "markdown",
   "metadata": {},
   "source": [
    "### Applying our Function"
   ]
  },
  {
   "cell_type": "code",
   "execution_count": 7,
   "metadata": {
    "ExecuteTime": {
     "end_time": "2021-01-24T04:36:25.018112Z",
     "start_time": "2021-01-24T04:36:19.818973Z"
    }
   },
   "outputs": [
    {
     "data": {
      "application/vnd.jupyter.widget-view+json": {
       "model_id": "1a63cc4ed4ae478cbefba921c965683d",
       "version_major": 2,
       "version_minor": 0
      },
      "text/plain": [
       "  0%|          | 0/9241 [00:00<?, ?it/s]"
      ]
     },
     "metadata": {},
     "output_type": "display_data"
    }
   ],
   "source": [
    "file_df['fullText'] = file_df['fullFilePath'].progress_apply(\n",
    "    lambda x: get_file_contents(x))"
   ]
  },
  {
   "cell_type": "markdown",
   "metadata": {},
   "source": [
    "### Writing out the tabular representation of the documents to a csv"
   ]
  },
  {
   "cell_type": "code",
   "execution_count": 8,
   "metadata": {
    "ExecuteTime": {
     "end_time": "2021-01-24T04:36:30.675419Z",
     "start_time": "2021-01-24T04:36:25.020106Z"
    }
   },
   "outputs": [],
   "source": [
    "file_df.to_csv('../data/processed/agreements.csv', index=False, header=True)"
   ]
  }
 ],
 "metadata": {
  "kernelspec": {
   "display_name": "Python 3",
   "language": "python",
   "name": "python3"
  },
  "language_info": {
   "codemirror_mode": {
    "name": "ipython",
    "version": 3
   },
   "file_extension": ".py",
   "mimetype": "text/x-python",
   "name": "python",
   "nbconvert_exporter": "python",
   "pygments_lexer": "ipython3",
   "version": "3.7.9"
  },
  "toc": {
   "base_numbering": 1,
   "nav_menu": {},
   "number_sections": true,
   "sideBar": true,
   "skip_h1_title": false,
   "title_cell": "Table of Contents",
   "title_sidebar": "Contents",
   "toc_cell": false,
   "toc_position": {},
   "toc_section_display": true,
   "toc_window_display": false
  },
  "varInspector": {
   "cols": {
    "lenName": 16,
    "lenType": 16,
    "lenVar": 40
   },
   "kernels_config": {
    "python": {
     "delete_cmd_postfix": "",
     "delete_cmd_prefix": "del ",
     "library": "var_list.py",
     "varRefreshCmd": "print(var_dic_list())"
    },
    "r": {
     "delete_cmd_postfix": ") ",
     "delete_cmd_prefix": "rm(",
     "library": "var_list.r",
     "varRefreshCmd": "cat(var_dic_list()) "
    }
   },
   "position": {
    "height": "332.205px",
    "left": "1763.33px",
    "right": "20px",
    "top": "120px",
    "width": "350px"
   },
   "types_to_exclude": [
    "module",
    "function",
    "builtin_function_or_method",
    "instance",
    "_Feature"
   ],
   "window_display": false
  }
 },
 "nbformat": 4,
 "nbformat_minor": 4
}
